{
 "cells": [
  {
   "cell_type": "markdown",
   "metadata": {},
   "source": [
    "OR Schedule Adherence Analysis"
   ]
  },
  {
   "cell_type": "code",
   "execution_count": 22,
   "metadata": {},
   "outputs": [],
   "source": [
    "import pandas as pd\n",
    "import pandasql as ps\n",
    "from pandasql import sqldf\n",
    "# Define a reusable function for running SQL queries\n",
    "run_query = lambda query: sqldf(query, globals())"
   ]
  },
  {
   "cell_type": "code",
   "execution_count": 62,
   "metadata": {},
   "outputs": [],
   "source": [
    "pd.set_option('display.max_columns', 100)\n",
    "pd.set_option('display.max_rows', 100)"
   ]
  },
  {
   "cell_type": "code",
   "execution_count": 23,
   "metadata": {},
   "outputs": [],
   "source": [
    "# Import the data (housed here: https://data.world/drjfalk/operating-room-utilization)\n",
    "or_df = pd.read_csv('redacted')"
   ]
  },
  {
   "cell_type": "code",
   "execution_count": 24,
   "metadata": {},
   "outputs": [],
   "source": [
    "# Convert the timestamps to datetime objects \n",
    "# Note: I would normally do this with SQL date functions, but Pandas uses SQLLite which has clunky date formatting\n",
    "or_df[['OR Schedule', 'Wheels In', 'Start Time', 'End Time', 'Wheels Out']] = or_df[['OR Schedule', 'Wheels In', 'Start Time', 'End Time', 'Wheels Out']].apply(pd.to_datetime, format='%m/%d/%y %I:%M %p')\n",
    "or_df['Date'] = pd.to_datetime(or_df['Date'], format='%m/%d/%y')"
   ]
  },
  {
   "cell_type": "code",
   "execution_count": 25,
   "metadata": {},
   "outputs": [
    {
     "name": "stdout",
     "output_type": "stream",
     "text": [
      "   encounter_id              encounter_date  or_suite      service  cpt_code  \\\n",
      "0         10001  2022-01-03 00:00:00.000000         1     Podiatry     28110   \n",
      "1         10002  2022-01-03 00:00:00.000000         1     Podiatry     28055   \n",
      "2         10003  2022-01-03 00:00:00.000000         1     Podiatry     28297   \n",
      "3         10004  2022-01-03 00:00:00.000000         1     Podiatry     28296   \n",
      "4         10005  2022-01-03 00:00:00.000000         2  Orthopedics     27445   \n",
      "\n",
      "                             cpt_description  booked_time_min  \\\n",
      "0   Partial ostectomy, fifth metatarsal head               90   \n",
      "1  Neurectomy, intrinsic musculature of foot               60   \n",
      "2                       Lapidus bunionectomy              150   \n",
      "3         Bunionectomy with distal osteotomy              120   \n",
      "4        Arthroplasty, knee, hinge prothesis              120   \n",
      "\n",
      "                  or_schedule                   wheels_in  \\\n",
      "0  2022-01-03 07:00:00.000000  2022-01-03 07:05:00.000000   \n",
      "1  2022-01-03 08:45:00.000000  2022-01-03 09:48:00.000000   \n",
      "2  2022-01-03 10:00:00.000000  2022-01-03 11:50:00.000000   \n",
      "3  2022-01-03 12:45:00.000000  2022-01-03 13:29:00.000000   \n",
      "4  2022-01-03 07:00:00.000000  2022-01-03 07:15:00.000000   \n",
      "\n",
      "                   start_time                    end_time  \\\n",
      "0  2022-01-03 07:32:00.000000  2022-01-03 09:05:00.000000   \n",
      "1  2022-01-03 10:13:00.000000  2022-01-03 11:01:00.000000   \n",
      "2  2022-01-03 12:20:00.000000  2022-01-03 12:42:00.000000   \n",
      "3  2022-01-03 13:53:00.000000  2022-01-03 14:50:00.000000   \n",
      "4  2022-01-03 07:50:00.000000  2022-01-03 09:38:00.000000   \n",
      "\n",
      "                   wheels_out  \n",
      "0  2022-01-03 09:17:00.000000  \n",
      "1  2022-01-03 11:12:00.000000  \n",
      "2  2022-01-03 12:58:00.000000  \n",
      "3  2022-01-03 15:02:00.000000  \n",
      "4  2022-01-03 09:51:00.000000  \n"
     ]
    }
   ],
   "source": [
    "# Rename and format the columns to be more sql friendly. Look at the first few rows to familizarize myself with the data.\n",
    "or_clean = sqldf(\"\"\"\n",
    "    select\n",
    "        \"Encounter ID\" as encounter_id\n",
    "        , \"Date\" as encounter_date\n",
    "        , \"OR Suite\" as or_suite\n",
    "        , \"Service\" as service\n",
    "        , \"CPT Code\" as cpt_code\n",
    "        , \"CPT Description\" as cpt_description\n",
    "        , \"Booked Time (min)\" as booked_time_min\n",
    "        , \"OR Schedule\" as or_schedule\n",
    "        , \"Wheels In\" as wheels_in\n",
    "        , \"Start Time\" as start_time\n",
    "        , \"End Time\" as end_time\n",
    "        , \"Wheels Out\" as wheels_out          \n",
    "    from or_df\n",
    "\"\"\")\n",
    "print(or_clean.head())"
   ]
  },
  {
   "cell_type": "code",
   "execution_count": 107,
   "metadata": {},
   "outputs": [],
   "source": [
    "# Create a new sqldf that calculates the fields needed for this analysis.\n",
    "# This will remain at the encounter level, with various aggregations later on.\n",
    "\n",
    "or_intervals = sqldf(\"\"\"\n",
    "    with\n",
    "        intervals as (\n",
    "            select *\n",
    "                     \n",
    "                -- Add the day of week in case that makes a difference in the analysis \n",
    "                , strftime('%w',encounter_date) as day_of_week     \n",
    "                     \n",
    "                -- Add the scheduled end time by adding the booked_time_min to the or_schedule      \n",
    "                , strftime('%Y-%m-%d %H:%M:%S', or_schedule, '+' || booked_time_min || ' minutes') as scheduled_end_time\n",
    "                     \n",
    "                -- Calculate the time between each event to explore whether there is wasted time between events \n",
    "                , (strftime('%s', wheels_in) - strftime('%s', or_schedule))/60 as scheduled_to_wheels_in_min\n",
    "                , (strftime('%s', start_time) - strftime('%s', or_schedule))/60 as or_schedule_to_start_min\n",
    "                , (strftime('%s', start_time) - strftime('%s', wheels_in))/60 as wheels_in_to_start_min\n",
    "                , (strftime('%s', end_time) - strftime('%s', start_time))/60 as start_to_end_min\n",
    "                , (strftime('%s', wheels_out) - strftime('%s', end_time))/60 as end_to_wheels_out_min\n",
    "                , (strftime('%s', wheels_out) - strftime('%s', wheels_in))/60 as wheels_in_to_wheels_out_min\n",
    "                , (strftime('%s', wheels_out) - strftime('%s', or_schedule))/60 as scheduled_to_wheels_out_min \n",
    "\n",
    "                -- Add a row_number to determine what order the procedures happened in. Partitioned by suite and\n",
    "                -- encounter date since each day the order should reset with 1 surgery per OR.      \n",
    "                , row_number() over(partition by or_suite, encounter_date order by start_time) as surgery_order_by_day\n",
    "                     \n",
    "                -- Add the prior and next encounter in the same suite on the same date \n",
    "                , lead(encounter_id) over(partition by or_suite, encounter_date order by start_time) as next_encounter_id\n",
    "                , lag(encounter_id) over(partition by or_suite, encounter_date order by start_time) as prior_encounter_id \n",
    "\n",
    "            from or_clean\n",
    "        )\n",
    "\n",
    "        , late_time as (\n",
    "            select *\n",
    "                , (strftime('%s', wheels_out) - strftime('%s', scheduled_end_time))/60 as minutes_over_schedule\n",
    "            from intervals \n",
    "        )             \n",
    "\n",
    "    -- Add the late indicators and do a self join to get the next encounter's data \n",
    "        select \n",
    "            current_encounter.*         \n",
    "            -- Create a boolean flag to indicate whether the wheels out was more than 5 minutes after the scheduled end time \n",
    "            , case when current_encounter.scheduled_to_wheels_in_min > 5 then 1 else 0 end as started_late         \n",
    "            , case when current_encounter.minutes_over_schedule > 5 then 1 else 0 end as ended_late\n",
    "\n",
    "            -- Add the relevant fields from the next encounter                  \n",
    "            , next_encounter.or_suite as next_or_suite        \n",
    "            , next_encounter.service as next_service\n",
    "            , next_encounter.cpt_code as next_cpt_code\n",
    "            , next_encounter.cpt_description as next_cpt_description \n",
    "            , next_encounter.booked_time_min as next_booked_time_min\n",
    "            , next_encounter.or_schedule as next_or_schedule\n",
    "            , next_encounter.wheels_in as next_wheels_in\n",
    "            , next_encounter.start_time as next_start_time\n",
    "            , next_encounter.end_time as next_end_time\n",
    "            , next_encounter.wheels_out as next_wheels_out\n",
    "            , next_encounter.minutes_over_schedule as next_minutes_over_schedule\n",
    "            \n",
    "            -- Same booleans as the current encounter \n",
    "            , case when next_encounter.scheduled_to_wheels_in_min > 5 then 1 else 0 end as next_started_late         \n",
    "            , case when next_encounter.minutes_over_schedule > 5 then 1 else 0 end as next_ended_late\n",
    "                     \n",
    "\n",
    "            -- Turn around time between current and next \n",
    "            , (strftime('%s', next_encounter.wheels_in) - strftime('%s', current_encounter.wheels_out))/60 as turnaround_time_min\n",
    "            , (strftime('%s', next_encounter.or_schedule) - strftime('%s', current_encounter.wheels_out))/60 as time_to_next_scheduled_case_min         \n",
    "                     \n",
    "        \n",
    "            -- Based on the booked time and or schedule, we can see the time between cases \n",
    "            , (strftime('%s', next_encounter.or_schedule) - strftime('%s', current_encounter.scheduled_end_time))/60 as scheduled_min_to_next_encounter               \n",
    "        from late_time as current_encounter\n",
    "        left join late_time as next_encounter\n",
    "            on current_encounter.next_encounter_id = next_encounter.encounter_id           \n",
    "\"\"\")\n"
   ]
  },
  {
   "cell_type": "code",
   "execution_count": 148,
   "metadata": {},
   "outputs": [
    {
     "name": "stdout",
     "output_type": "stream",
     "text": [
      "         service  avg_surgery_time\n",
      "0            ENT         69.096447\n",
      "1        General        113.000000\n",
      "2          OBGYN         91.750000\n",
      "3  Ophthalmology         35.871257\n",
      "4    Orthopedics        100.959502\n",
      "5     Pediatrics         66.000000\n",
      "6        Plastic        103.420290\n",
      "7       Podiatry         94.329268\n",
      "8        Urology         70.756477\n",
      "9       Vascular         81.179191\n"
     ]
    }
   ],
   "source": [
    "print(sqldf(\"\"\"\n",
    "    select \n",
    "        service\n",
    "        , avg(wheels_in_to_wheels_out_min) as avg_surgery_time\n",
    "    from or_intervals\n",
    "group by 1\n",
    "    order by  1\n",
    "   \"\"\"))"
   ]
  },
  {
   "cell_type": "code",
   "execution_count": null,
   "metadata": {},
   "outputs": [
    {
     "name": "stdout",
     "output_type": "stream",
     "text": [
      "                  cpt_description  avg_surgery_time\n",
      "0  Extracapsular cataract removal         35.871257\n"
     ]
    }
   ],
   "source": [
    "print(sqldf(\"\"\"\n",
    "    select \n",
    "        cpt_description\n",
    "        , avg(wheels_in_to_wheels_out_min) as avg_surgery_time\n",
    "    from or_intervals\n",
    "    where service = 'Ophthalmology'\n",
    "    group by 1\n",
    "   \"\"\"))"
   ]
  },
  {
   "cell_type": "code",
   "execution_count": 149,
   "metadata": {},
   "outputs": [
    {
     "name": "stdout",
     "output_type": "stream",
     "text": [
      "   count(*)  started_late  ended_late  both_late\n",
      "0      2172          1628        1636       1534\n"
     ]
    }
   ],
   "source": [
    "print(sqldf(\"\"\"\n",
    "        select\n",
    "            count(*)\n",
    "            , sum(started_late) as started_late\n",
    "            , sum(ended_late) as ended_late\n",
    "            , sum(case when started_late = 1 and ended_late = 1 then 1 else 0 end) as both_late\n",
    "        from or_intervals\n",
    "        \"\"\"))"
   ]
  },
  {
   "cell_type": "code",
   "execution_count": 181,
   "metadata": {},
   "outputs": [
    {
     "name": "stdout",
     "output_type": "stream",
     "text": [
      "         service  ended_late  total_surgeries  avg_late_time\n",
      "0            ENT         174              197      31.619289\n",
      "1        General         117              117      36.666667\n",
      "2          OBGYN         123              164      16.250000\n",
      "3  Ophthalmology           0              334     -12.443114\n",
      "4    Orthopedics         321              321      74.526480\n",
      "5     Pediatrics         220              220      52.200000\n",
      "6        Plastic          69              207       9.227053\n",
      "7       Podiatry         246              246      54.621951\n",
      "8        Urology         193              193      60.424870\n",
      "9       Vascular         173              173      64.751445\n"
     ]
    }
   ],
   "source": [
    "# How many surgeries ended > 5 min late based on Service?\n",
    "print(sqldf(\"\"\"\n",
    "        select\n",
    "            service\n",
    "            , sum(ended_late) as ended_late\n",
    "            , count(*) as total_surgeries\n",
    "            , avg(minutes_over_schedule) as avg_late_time\n",
    "        from or_intervals\n",
    "        group by 1\n",
    "        \"\"\"))"
   ]
  },
  {
   "cell_type": "code",
   "execution_count": 159,
   "metadata": {},
   "outputs": [
    {
     "name": "stdout",
     "output_type": "stream",
     "text": [
      "   or_suite  avg_min_over_schedule  num_encounters\n",
      "0         1              54.621951             246\n",
      "1         2              81.059524             252\n",
      "2         3               3.018223             439\n",
      "3         4              32.130597             268\n",
      "4         5              41.765734             286\n",
      "5         6               9.227053             207\n",
      "6         7              59.739583             288\n",
      "7         8              41.860215             186\n"
     ]
    }
   ],
   "source": [
    "# Late Time by OR\n",
    "print(sqldf(\"\"\"\n",
    "        select\n",
    "            or_suite\n",
    "            , avg(minutes_over_schedule) as avg_min_over_schedule\n",
    "            , count(*) as num_encounters\n",
    "        from or_intervals\n",
    "        --where ended_late = 1\n",
    "        group by 1\n",
    "        \"\"\"))"
   ]
  },
  {
   "cell_type": "code",
   "execution_count": 67,
   "metadata": {},
   "outputs": [
    {
     "name": "stdout",
     "output_type": "stream",
     "text": [
      "   ended_late  count(*)\n",
      "0           0       167\n",
      "1           1       329\n"
     ]
    }
   ],
   "source": [
    "# How many first surgeries of the day ended?\n",
    "print(sqldf(\"\"\"\n",
    "        select\n",
    "            ended_late\n",
    "            , count(*)\n",
    "        from or_intervals\n",
    "       where surgery_order_by_day = 1\n",
    "        group by 1\n",
    "        \"\"\"))"
   ]
  },
  {
   "cell_type": "code",
   "execution_count": 160,
   "metadata": {},
   "outputs": [
    {
     "name": "stdout",
     "output_type": "stream",
     "text": [
      "   ended_late  count(*)\n",
      "0           0       456\n",
      "1           1      1220\n"
     ]
    }
   ],
   "source": [
    "# Of surgeries with another surgery scheduled after, how many ended late?\n",
    "print(sqldf(\"\"\"\n",
    "        select\n",
    "            ended_late\n",
    "            , count(*)\n",
    "        from or_intervals\n",
    "        where next_encounter_id is not null\n",
    "        group by 1\n",
    "        \"\"\"))"
   ]
  },
  {
   "cell_type": "code",
   "execution_count": 161,
   "metadata": {},
   "outputs": [
    {
     "name": "stdout",
     "output_type": "stream",
     "text": [
      "   next_started_late  next_ended_late  next_both_late\n",
      "0               1220             1220            1220\n"
     ]
    }
   ],
   "source": [
    "# Of surgeries with another surgery scheduled after that ended late, how many had the next surgery start, end, or both late?\n",
    "print(sqldf(\"\"\"\n",
    "        select\n",
    "            sum(next_started_late) as next_started_late\n",
    "            , sum(next_ended_late) as next_ended_late\n",
    "            , sum(case when next_started_late = 1 and next_ended_late = 1 then 1 else 0 end) as next_both_late\n",
    "        from or_intervals\n",
    "       where next_encounter_id is not null\n",
    "            and ended_late = 1\n",
    "\n",
    "        \"\"\"))"
   ]
  },
  {
   "cell_type": "code",
   "execution_count": 162,
   "metadata": {},
   "outputs": [
    {
     "name": "stdout",
     "output_type": "stream",
     "text": [
      "   surgery_order_by_day  started_late  ended_late  both_late  num_encounters\n",
      "0                     1           266         329        227             455\n",
      "1                     2           455         416        416             455\n",
      "2                     3           414         398        398             435\n",
      "3                     4           334         334        334             334\n",
      "4                     5           159         159        159             159\n"
     ]
    }
   ],
   "source": [
    "# Excluding Ophthalmology, how many surgeries started/ended late by order of the day?\n",
    "print(sqldf(\"\"\"\n",
    "        select\n",
    "            surgery_order_by_day\n",
    "            , sum(started_late) as started_late\n",
    "            , sum(ended_late) as ended_late\n",
    "            , sum(case when started_late = 1 and ended_late = 1 then 1 else 0 end) as both_late\n",
    "            , count(*) as num_encounters\n",
    "        from or_intervals\n",
    "        where service != 'Ophthalmology'\n",
    "        group by 1\n",
    "        \"\"\"))"
   ]
  },
  {
   "cell_type": "code",
   "execution_count": 185,
   "metadata": {},
   "outputs": [
    {
     "name": "stdout",
     "output_type": "stream",
     "text": [
      "   or_suite  avg_end_of_day_diff\n",
      "0         1            59.967742\n",
      "1         2           137.258065\n",
      "2         3            88.000000\n",
      "3         4            56.806452\n",
      "4         5            80.822581\n",
      "5         6            23.016129\n",
      "6         7           109.532258\n",
      "7         8            64.096774\n",
      "   avg_end_of_day_diff\n",
      "0            76.485714\n"
     ]
    }
   ],
   "source": [
    "# What time do surgeries end compared to scheduled end of day?\n",
    "\n",
    "print(sqldf(\"\"\"\n",
    "            with end_of_day as (\n",
    "                        select \n",
    "                        encounter_date\n",
    "                        , or_suite\n",
    "                        , max(scheduled_end_time) as scheduled_end_of_day\n",
    "                        , max(wheels_out) as actual_end_of_day\n",
    "                        from or_intervals\n",
    "                        where service != 'Ophthalmology'\n",
    "                        group by 1, 2\n",
    "            )\n",
    "        select \n",
    "            or_suite\n",
    "            , avg((strftime('%s', actual_end_of_day) - strftime('%s', scheduled_end_of_day))/60) as avg_end_of_day_diff\n",
    "        from end_of_day\n",
    "        group by 1\n",
    "            \"\"\"))\n",
    "\n",
    "print(sqldf(\"\"\"\n",
    "            with end_of_day as (\n",
    "                        select \n",
    "                        encounter_date\n",
    "                        , or_suite\n",
    "                        , max(scheduled_end_time) as scheduled_end_of_day\n",
    "                        , max(wheels_out) as actual_end_of_day\n",
    "                        from or_intervals\n",
    "                        where service != 'Ophthalmology'\n",
    "                        group by 1, 2\n",
    "            )\n",
    "        select \n",
    "             avg((strftime('%s', actual_end_of_day) - strftime('%s', scheduled_end_of_day))/60) as avg_end_of_day_diff\n",
    "        from end_of_day\n",
    "            \"\"\"))"
   ]
  },
  {
   "cell_type": "code",
   "execution_count": 165,
   "metadata": {},
   "outputs": [
    {
     "name": "stdout",
     "output_type": "stream",
     "text": [
      "    actual_vs_booked  num_surgeries\n",
      "0      0-5 min early            145\n",
      "1       0-5 min late            269\n",
      "2     5-10 min early            307\n",
      "3      5-10 min late            297\n",
      "4            On time             11\n",
      "5  Over 10 min early            138\n",
      "6   Over 10 min late            671\n"
     ]
    }
   ],
   "source": [
    "# What is the distribution of time surgeries take compared to scheduled time?\n",
    "print(sqldf(\"\"\"\n",
    "            with bins as (\n",
    "                        select \n",
    "                            encounter_id\n",
    "                            , booked_time_min - wheels_in_to_wheels_out_min\n",
    "                            , case  \n",
    "                                when booked_time_min - wheels_in_to_wheels_out_min < -10 then 'Over 10 min late'\n",
    "                                when booked_time_min - wheels_in_to_wheels_out_min < -5 then '5-10 min late'\n",
    "                                when booked_time_min - wheels_in_to_wheels_out_min < 0 then '0-5 min late'\n",
    "                                when booked_time_min - wheels_in_to_wheels_out_min = 0 then 'On time'\n",
    "                                when booked_time_min - wheels_in_to_wheels_out_min < 5 then '0-5 min early'\n",
    "                                when booked_time_min - wheels_in_to_wheels_out_min <= 10 then '5-10 min early'\n",
    "                                when booked_time_min - wheels_in_to_wheels_out_min > 10 then 'Over 10 min early'\n",
    "                            end as actual_vs_booked\n",
    "                        from or_intervals\n",
    "                        where service != 'Ophthalmology'  \n",
    "            )\n",
    "        select \n",
    "            actual_vs_booked\n",
    "            , count(*) as num_surgeries\n",
    "        from bins\n",
    "        group by 1\n",
    "            \"\"\"))\n",
    "\n"
   ]
  },
  {
   "cell_type": "code",
   "execution_count": null,
   "metadata": {},
   "outputs": [
    {
     "name": "stdout",
     "output_type": "stream",
     "text": [
      "    actual_vs_booked  num_surgeries\n",
      "0      0-5 min early            163\n",
      "1       0-5 min late            269\n",
      "2     5-10 min early            390\n",
      "3      5-10 min late            315\n",
      "4            On time             11\n",
      "5  Over 10 min early            202\n",
      "6   Over 10 min late            488\n"
     ]
    }
   ],
   "source": [
    "# How does the distribution change if we modify the 6 cpts with the highest discrepancy between booked and actual time?\n",
    "print(sqldf(\"\"\"\n",
    "            with \n",
    "                adj_booked_times as (\n",
    "                    select\n",
    "                        encounter_id\n",
    "                        , case\n",
    "                            when cpt_code = 28110 then 150\n",
    "                            when cpt_code = 28055 then 90\n",
    "                            when cpt_code = 28285 then 90\n",
    "                            when cpt_code = 27445 then 150\n",
    "                            when cpt_code = 27130 then 150\n",
    "                            when cpt_code = 27130 then 90\n",
    "                        else booked_time_min\n",
    "                        end as adj_booked_time_min \n",
    "                        , wheels_in_to_wheels_out_min\n",
    "                    from or_intervals \n",
    "                    where service != 'Ophthalmology'\n",
    "                )\n",
    "            \n",
    "            , bins as (\n",
    "                        select \n",
    "                            encounter_id\n",
    "                            , adj_booked_time_min  - wheels_in_to_wheels_out_min as diff\n",
    "                            , case  \n",
    "                                when adj_booked_time_min  - wheels_in_to_wheels_out_min < -10 then 'Over 10 min late'\n",
    "                                when adj_booked_time_min - wheels_in_to_wheels_out_min < -5 then '5-10 min late'\n",
    "                                when adj_booked_time_min  - wheels_in_to_wheels_out_min < 0 then '0-5 min late'\n",
    "                                when adj_booked_time_min  - wheels_in_to_wheels_out_min = 0 then 'On time'\n",
    "                                when adj_booked_time_min - wheels_in_to_wheels_out_min < 5 then '0-5 min early'\n",
    "                                when adj_booked_time_min  - wheels_in_to_wheels_out_min <= 10 then '5-10 min early'\n",
    "                                when adj_booked_time_min - wheels_in_to_wheels_out_min > 10 then 'Over 10 min early'\n",
    "                            end as actual_vs_booked\n",
    "                        from adj_booked_times\n",
    "            )\n",
    "        select \n",
    "            actual_vs_booked\n",
    "            , count(*) as num_surgeries\n",
    "        from bins\n",
    "        group by 1\n",
    "            \"\"\"))"
   ]
  },
  {
   "cell_type": "code",
   "execution_count": 114,
   "metadata": {},
   "outputs": [
    {
     "name": "stdout",
     "output_type": "stream",
     "text": [
      "   avg(turnaround_time_min)\n",
      "0                 31.707881\n"
     ]
    }
   ],
   "source": [
    "# Question 2. The OR room is cleaned and prepped between services. How long does this take on\n",
    "# average? Does it take more or less time when the prior service is running late?\n",
    "\n",
    "print(sqldf(\"\"\"\n",
    "            select\n",
    "                avg(turnaround_time_min)\n",
    "            from or_intervals\n",
    "            where service != 'Ophthalmology'\n",
    "            \"\"\"))"
   ]
  },
  {
   "cell_type": "code",
   "execution_count": 110,
   "metadata": {},
   "outputs": [
    {
     "name": "stdout",
     "output_type": "stream",
     "text": [
      "         service  avg(turnaround_time_min)\n",
      "0        Urology                 34.350649\n",
      "1       Podiatry                 33.918478\n",
      "2          OBGYN                 33.000000\n",
      "3        General                 32.500000\n",
      "4    Orthopedics                 32.449153\n",
      "5       Vascular                 31.895522\n",
      "6            ENT                 30.790850\n",
      "7        Plastic                 29.875862\n",
      "8     Pediatrics                 27.000000\n",
      "9  Ophthalmology                 21.211604\n"
     ]
    }
   ],
   "source": [
    "# Avg TAT by service\n",
    "print(sqldf(\"\"\"\n",
    "            select\n",
    "                service\n",
    "                , avg(turnaround_time_min)\n",
    "            from or_intervals\n",
    "            group by 1\n",
    "            order by 2 desc\n",
    "            \"\"\"))\n"
   ]
  },
  {
   "cell_type": "code",
   "execution_count": 166,
   "metadata": {},
   "outputs": [
    {
     "name": "stdout",
     "output_type": "stream",
     "text": [
      "   ended_late  avg(current_encounter.turnaround_time_min)\n",
      "0         1.0                                   33.001244\n",
      "1         0.0                                   31.064516\n",
      "2         NaN                                   26.312834\n"
     ]
    }
   ],
   "source": [
    "# Do surgeries that end late have longer turnaround times?\n",
    "print(sqldf(\"\"\"\n",
    "            with \n",
    "                add_prior_encounter as (\n",
    "                    select \n",
    "                        encounter_id\n",
    "                        , ended_late\n",
    "                    from or_intervals \n",
    "                    where service != 'Ophthalmology')\n",
    "        select\n",
    "            prior_encounter.ended_late\n",
    "            , avg(current_encounter.turnaround_time_min)\n",
    "        from or_intervals as current_encounter\n",
    "        left join add_prior_encounter as prior_encounter\n",
    "            on current_encounter.prior_encounter_id = prior_encounter.encounter_id\n",
    "        group by 1\n",
    "        order by 2 desc\n",
    "            \"\"\"))"
   ]
  }
 ],
 "metadata": {
  "kernelspec": {
   "display_name": "data-science",
   "language": "python",
   "name": "data-science"
  },
  "language_info": {
   "codemirror_mode": {
    "name": "ipython",
    "version": 3
   },
   "file_extension": ".py",
   "mimetype": "text/x-python",
   "name": "python",
   "nbconvert_exporter": "python",
   "pygments_lexer": "ipython3",
   "version": "3.8.13"
  }
 },
 "nbformat": 4,
 "nbformat_minor": 2
}
